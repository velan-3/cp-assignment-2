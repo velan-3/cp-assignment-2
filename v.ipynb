{
 "cells": [
  {
   "cell_type": "markdown",
   "id": "d84b1565",
   "metadata": {},
   "source": [
    "# CP ASSIGNMENT-2\n",
    "\n",
    "# REG NO: 21UAI102\n"
   ]
  },
  {
   "cell_type": "markdown",
   "id": "49749a53",
   "metadata": {},
   "source": [
    "# INHERITANCE\n",
    "## SINGLE INHERTANCE"
   ]
  },
  {
   "cell_type": "code",
   "execution_count": 46,
   "id": "f48c4b3b",
   "metadata": {},
   "outputs": [
    {
     "name": "stdout",
     "output_type": "stream",
     "text": [
      "NAME: velan\n",
      "INCOME 4532222\n",
      "FULL STACK DEVELOPER\n"
     ]
    }
   ],
   "source": [
    "# single inheritance using protected access modifier\n",
    "class emp:\n",
    "    def __init__(self,name,income):\n",
    "        #protected data members initialization\n",
    "        self._name=name\n",
    "        self._income=income\n",
    "class hr(emp):\n",
    "    def display(self):\n",
    "        print(\"NAME:\",self._name)\n",
    "        print(\"INCOME\",self._income)\n",
    "    def dec(self):\n",
    "        print('FULL STACK DEVELOPER')\n",
    "hrobj=hr('velan',4532222)\n",
    "hrobj.display()\n",
    "hrobj.dec()"
   ]
  },
  {
   "cell_type": "markdown",
   "id": "9980ccc7",
   "metadata": {},
   "source": [
    "## MULTILEVEL INHERITANCE"
   ]
  },
  {
   "cell_type": "code",
   "execution_count": 52,
   "id": "0eb38efa",
   "metadata": {},
   "outputs": [
    {
     "name": "stdout",
     "output_type": "stream",
     "text": [
      "A \n",
      " 30\n"
     ]
    }
   ],
   "source": [
    "class gfather:\n",
    "    gfname='A'\n",
    "    gfage=30\n",
    "class father(gfather):\n",
    "    fname='B'\n",
    "    fage=5\n",
    "class son(father):\n",
    "    sname='C'\n",
    "    sage=1\n",
    "sobj=son()\n",
    "print(sobj.gfname,'\\n',sobj.gfage)\n"
   ]
  },
  {
   "cell_type": "markdown",
   "id": "f5e4e8dd",
   "metadata": {},
   "source": [
    "## MULTIPLE INHERITANCE"
   ]
  },
  {
   "cell_type": "code",
   "execution_count": 53,
   "id": "0465ab1b",
   "metadata": {},
   "outputs": [
    {
     "name": "stdout",
     "output_type": "stream",
     "text": [
      "FATHER DETAILS:\n",
      "A \n",
      " 34\n",
      "\n",
      "\n",
      "MOTHER DETAILS:\n",
      "B \n",
      " 16\n"
     ]
    }
   ],
   "source": [
    "class father:\n",
    "    fname='A'\n",
    "    fage=34\n",
    "class mother:\n",
    "    mname='B'\n",
    "    mage=16\n",
    "class son(father,mother):\n",
    "    sname='C'\n",
    "    sage=5\n",
    "sobj=son()\n",
    "print(\"FATHER DETAILS:\")\n",
    "print(sobj.fname,\"\\n\",sobj.fage)\n",
    "print(\"\\n\")\n",
    "print(\"MOTHER DETAILS:\")\n",
    "print(sobj.mname,\"\\n\",sobj.mage)"
   ]
  },
  {
   "cell_type": "markdown",
   "id": "c1630690",
   "metadata": {},
   "source": [
    "## HIERARCHIAL INHERITANCE"
   ]
  },
  {
   "cell_type": "code",
   "execution_count": 55,
   "id": "87d9c69f",
   "metadata": {},
   "outputs": [
    {
     "name": "stdout",
     "output_type": "stream",
     "text": [
      "245 \n",
      " ABC ENGINEERING COLLEGE\n"
     ]
    }
   ],
   "source": [
    "class university:\n",
    "    uid=100\n",
    "    uname=\"ABC UNIVERSITY\"\n",
    "class arts(university):\n",
    "    aid=123\n",
    "    aname=\"ABC ARTS & SCIENCE\"\n",
    "class engg(university):\n",
    "    eid=245\n",
    "    ename=\"ABC ENGINEERING COLLEGE\"\n",
    "class medical(university):\n",
    "    mid=331\n",
    "    mname=\"ABC MEDICAL COLLEGE & HOSPITAL\"\n",
    "class arch(university):\n",
    "    arid=445\n",
    "    arname=\"ABC SCHOOL OF ARCHITECTURE\"\n",
    "eobj=engg()\n",
    "print(eobj.eid,\"\\n\",eobj.ename)"
   ]
  },
  {
   "cell_type": "markdown",
   "id": "3a66f879",
   "metadata": {},
   "source": [
    "## HYBRID INHERITANCE"
   ]
  },
  {
   "cell_type": "code",
   "execution_count": 56,
   "id": "db6ff55b",
   "metadata": {},
   "outputs": [
    {
     "name": "stdout",
     "output_type": "stream",
     "text": [
      "Grand father\n",
      "Mother\n",
      "Father\n",
      "Child\n"
     ]
    }
   ],
   "source": [
    "class GrandPa:\n",
    "    def __init__(self):\n",
    "        print(\"Grand father\")\n",
    "\n",
    "class Father(GrandPa):\n",
    "    def __init__(self):\n",
    "        super().__init__()\n",
    "        print(\"Father\")\n",
    "\n",
    "class Mother(GrandPa):\n",
    "    def __init__(self):\n",
    "        super().__init__()\n",
    "        print(\"Mother\")\n",
    "\n",
    "\n",
    "class child(Father, Mother):\n",
    "    def __init__(self):\n",
    "        super().__init__()\n",
    "        print(\"Child\")\n",
    "\n",
    "c = child()\n"
   ]
  },
  {
   "cell_type": "markdown",
   "id": "d124b27c",
   "metadata": {},
   "source": [
    "## ACCESS MODIFIERS"
   ]
  },
  {
   "cell_type": "code",
   "execution_count": 57,
   "id": "846feb87",
   "metadata": {},
   "outputs": [
    {
     "data": {
      "text/plain": [
       "3"
      ]
     },
     "execution_count": 57,
     "metadata": {},
     "output_type": "execute_result"
    }
   ],
   "source": [
    "#private inheritance\n",
    "class emp:\n",
    "    def __init__(self,eid,name):\n",
    "        self._eid=eid\n",
    "        self._name=name\n",
    "e1=emp(3,'HI')\n",
    "e1._eid"
   ]
  },
  {
   "cell_type": "code",
   "execution_count": 58,
   "id": "039090cf",
   "metadata": {},
   "outputs": [
    {
     "name": "stdout",
     "output_type": "stream",
     "text": [
      "COLLEGE\n",
      "name: VELAN\n",
      "role: STUDENT\n"
     ]
    }
   ],
   "source": [
    "#private data members initialization\n",
    "class emp:\n",
    "    def __init__(self,emid,name):\n",
    "        self.__eid=emid \n",
    "        self.__ename=name\n",
    "e1=emp(1,\"k\")\n",
    "\n",
    "# protected data members initialization\n",
    "class job:\n",
    "    def __init__(self,name,role):\n",
    "        self._name=name \n",
    "        self._role=role\n",
    "    def displaydata(self):\n",
    "        print(\"name:\",self._name)\n",
    "        print(\"role:\",self._role)\n",
    "class hr(job):\n",
    "    print(\"COLLEGE\")\n",
    "o1=hr('VELAN','STUDENT') \n",
    "o1.displaydata()\n",
    "\n"
   ]
  },
  {
   "cell_type": "code",
   "execution_count": 59,
   "id": "afb57994",
   "metadata": {},
   "outputs": [
    {
     "name": "stdout",
     "output_type": "stream",
     "text": [
      "NAME: VELAN\n",
      "HEIGHT: 180\n",
      "WEIGHT: 85\n"
     ]
    }
   ],
   "source": [
    "#public data members initialization\n",
    "class emp:\n",
    "    def __init__(self,name,height,weight):\n",
    "        self.sname=name # all data members are public by default \n",
    "        self.sheight=height # . is used to initialize public data members\n",
    "        self.sweight=weight\n",
    "    def display(self):\n",
    "        print(\"NAME:\",self.sname)\n",
    "        print(\"HEIGHT:\",self.sheight)\n",
    "        print(\"WEIGHT:\",self.sweight)\n",
    "o1=emp('VELAN',180,85)\n",
    "o1.display()"
   ]
  },
  {
   "cell_type": "markdown",
   "id": "2e689113",
   "metadata": {},
   "source": [
    "## NUMPY AGGREGATORS"
   ]
  },
  {
   "cell_type": "code",
   "execution_count": 60,
   "id": "f67dd614",
   "metadata": {},
   "outputs": [
    {
     "name": "stdout",
     "output_type": "stream",
     "text": [
      "9 1 42\n"
     ]
    }
   ],
   "source": [
    "import numpy as np\n",
    "x=np.array([[1,3,5,2],[5,3,5,5],[9,1,1,2]])\n",
    "print(np.max(x),np.min(x),np.sum(x))"
   ]
  },
  {
   "cell_type": "code",
   "execution_count": 61,
   "id": "3ded7fda",
   "metadata": {},
   "outputs": [
    {
     "name": "stdout",
     "output_type": "stream",
     "text": [
      "[[ 7 48 24  2]\n",
      " [43 36 44 49]\n",
      " [26  4 36 25]]\n",
      "344\n",
      "sum row-wise: [11 18 13]\n",
      "sum col-wise: [15  7 11  9]\n",
      "max element of each col: [9 3 5 5]\n",
      "min element of each col: [1 1 1 2]\n"
     ]
    }
   ],
   "source": [
    "m=np.random.randint(1,50,(3,4))\n",
    "print(m)\n",
    "print(m.sum())\n",
    "print(\"sum row-wise:\",np.sum(x,axis=1))\n",
    "print(\"sum col-wise:\",np.sum(x,axis=0))\n",
    "print(\"max element of each col:\",np.max(x,axis=0))\n",
    "print(\"min element of each col:\",np.min(x,axis=0))\n"
   ]
  },
  {
   "cell_type": "code",
   "execution_count": 62,
   "id": "9d378c57",
   "metadata": {},
   "outputs": [
    {
     "name": "stdout",
     "output_type": "stream",
     "text": [
      "48\n",
      "5.5\n",
      "1.4142135623730951\n",
      "6.75\n",
      "3\n",
      "0\n",
      "False\n",
      "True\n",
      "3.0\n"
     ]
    }
   ],
   "source": [
    "import numpy as np\n",
    "print(np.product([[1,6],[2,4]]))\n",
    "print(np.mean([[2,6],[6,8]]))\n",
    "print(np.std([[2,4],[6,4]]))\n",
    "print(np.var([[2,2],[6,8]]))\n",
    "x=np.array([[2,4],[6,2]])\n",
    "print(np.argmax([1,2,3,4]))\n",
    "print(np.argmin([1,2,3,4]))\n",
    "b=np.array([True,True,True,False])\n",
    "print(np.all(b))\n",
    "print(np.any(b))\n",
    "print(np.median([1,2,3,4,5]))"
   ]
  },
  {
   "cell_type": "markdown",
   "id": "81f4f41a",
   "metadata": {},
   "source": [
    "## COMPARISION,MASKS AND BOOLEAN ARRAYS IN NUMPY"
   ]
  },
  {
   "cell_type": "code",
   "execution_count": 63,
   "id": "fd7325de",
   "metadata": {},
   "outputs": [
    {
     "name": "stdout",
     "output_type": "stream",
     "text": [
      "[ True False False False False]\n",
      "[False False  True  True False]\n",
      "[ True  True False False  True]\n",
      "[False  True  True  True  True]\n",
      "[ True False  True  True False]\n",
      "[False  True False False  True]\n"
     ]
    }
   ],
   "source": [
    "#boolean operations\n",
    "import numpy as np\n",
    "x=np.array([1,2,5,3,2])\n",
    "print(x<2)\n",
    "print(x>2)\n",
    "print(x<=2)\n",
    "print(x>=2)\n",
    "print(x!=2)\n",
    "print(x==2)"
   ]
  },
  {
   "cell_type": "code",
   "execution_count": 64,
   "id": "7e6d4847",
   "metadata": {},
   "outputs": [
    {
     "data": {
      "text/plain": [
       "array([False, False, False, False, False])"
      ]
     },
     "execution_count": 64,
     "metadata": {},
     "output_type": "execute_result"
    }
   ],
   "source": [
    "4*x==(x**4)"
   ]
  },
  {
   "cell_type": "code",
   "execution_count": 65,
   "id": "45ea2bcc",
   "metadata": {},
   "outputs": [
    {
     "data": {
      "text/plain": [
       "False"
      ]
     },
     "execution_count": 65,
     "metadata": {},
     "output_type": "execute_result"
    }
   ],
   "source": [
    "bool(22 and 0)"
   ]
  },
  {
   "cell_type": "code",
   "execution_count": 66,
   "id": "d0bf3607",
   "metadata": {},
   "outputs": [],
   "source": [
    "x=np.array([1,3,1,0,1,1],dtype=bool)\n",
    "y=np.array([1,1,1,0,1,0],dtype=bool)"
   ]
  },
  {
   "cell_type": "code",
   "execution_count": 67,
   "id": "5c1f834a",
   "metadata": {},
   "outputs": [
    {
     "data": {
      "text/plain": [
       "array([ True,  True,  True, False,  True, False])"
      ]
     },
     "execution_count": 67,
     "metadata": {},
     "output_type": "execute_result"
    }
   ],
   "source": [
    "x&y"
   ]
  },
  {
   "cell_type": "code",
   "execution_count": 68,
   "id": "c1f63d3a",
   "metadata": {},
   "outputs": [
    {
     "data": {
      "text/plain": [
       "array([ True,  True,  True, False,  True,  True])"
      ]
     },
     "execution_count": 68,
     "metadata": {},
     "output_type": "execute_result"
    }
   ],
   "source": [
    "x|y"
   ]
  },
  {
   "cell_type": "code",
   "execution_count": 69,
   "id": "8c77cee1",
   "metadata": {},
   "outputs": [
    {
     "data": {
      "text/plain": [
       "array([False, False, False, False, False,  True])"
      ]
     },
     "execution_count": 69,
     "metadata": {},
     "output_type": "execute_result"
    }
   ],
   "source": [
    "x!=y"
   ]
  },
  {
   "cell_type": "code",
   "execution_count": 70,
   "id": "ea43d2c4",
   "metadata": {},
   "outputs": [
    {
     "data": {
      "text/plain": [
       "array([False, False, False, False, False,  True])"
      ]
     },
     "execution_count": 70,
     "metadata": {},
     "output_type": "execute_result"
    }
   ],
   "source": [
    "x^y"
   ]
  },
  {
   "cell_type": "code",
   "execution_count": 71,
   "id": "62b5e832",
   "metadata": {},
   "outputs": [
    {
     "data": {
      "text/plain": [
       "False"
      ]
     },
     "execution_count": 71,
     "metadata": {},
     "output_type": "execute_result"
    }
   ],
   "source": [
    "np.all(x) "
   ]
  },
  {
   "cell_type": "code",
   "execution_count": 72,
   "id": "9094f80b",
   "metadata": {},
   "outputs": [
    {
     "data": {
      "text/plain": [
       "True"
      ]
     },
     "execution_count": 72,
     "metadata": {},
     "output_type": "execute_result"
    }
   ],
   "source": [
    "np.any(y)"
   ]
  },
  {
   "cell_type": "markdown",
   "id": "f4fb8fd1",
   "metadata": {},
   "source": [
    "## EXCEPTION HANDLING"
   ]
  },
  {
   "cell_type": "code",
   "execution_count": 73,
   "id": "25e13512",
   "metadata": {},
   "outputs": [
    {
     "name": "stdout",
     "output_type": "stream",
     "text": [
      "Error due to divided by 0\n",
      "error handling learnt succesfully\n"
     ]
    }
   ],
   "source": [
    "#zero division error\n",
    "def fun(a,b):\n",
    "    try:\n",
    "        c=a+b/(a-b)\n",
    "    except ZeroDivisionError:\n",
    "        print(\"Error due to divided by 0\")\n",
    "        \n",
    "    else:\n",
    "        print(c)\n",
    "    finally:\n",
    "        print(\"error handling learnt succesfully\")\n",
    "fun(2,2)      \n",
    "\n",
    "    "
   ]
  },
  {
   "cell_type": "code",
   "execution_count": 74,
   "id": "81b91637",
   "metadata": {},
   "outputs": [],
   "source": [
    "cgpa=9\n",
    "try:\n",
    "    if(cgpa>9):\n",
    "        print(\"distinction\")\n",
    "except SyntaxError:\n",
    "    print(\"syntax error\")\n",
    "\n"
   ]
  },
  {
   "cell_type": "code",
   "execution_count": 75,
   "id": "15f5ca4e",
   "metadata": {},
   "outputs": [
    {
     "name": "stdout",
     "output_type": "stream",
     "text": [
      "Second element = 3\n",
      "An error occurred\n"
     ]
    }
   ],
   "source": [
    "list1 = ['x',3, 2, 3,-9.6]\n",
    "try: \n",
    "    print (\"Second element =\",list1[1])\n",
    "    print (\"Sixth element =\",list1[5]) #trying to access out of range element\n",
    "  \n",
    "except:\n",
    "    print (\"An error occurred\")"
   ]
  },
  {
   "cell_type": "code",
   "execution_count": 76,
   "id": "b5f89b65",
   "metadata": {},
   "outputs": [
    {
     "name": "stdout",
     "output_type": "stream",
     "text": [
      "dividing a/b is 0\n",
      "-7.0\n"
     ]
    }
   ],
   "source": [
    "def func1(a , b):\n",
    "    try:\n",
    "        c = ((a+b) / (a-b))\n",
    "    except ZeroDivisionError:\n",
    "        print (\"dividing a/b is 0\")\n",
    "    else:\n",
    "        print (c)  \n",
    "        \n",
    "func1(1,1)\n",
    "func1(3,4)"
   ]
  },
  {
   "cell_type": "code",
   "execution_count": 77,
   "id": "42cb5d06",
   "metadata": {},
   "outputs": [
    {
     "name": "stdout",
     "output_type": "stream",
     "text": [
      "An exception\n"
     ]
    }
   ],
   "source": [
    "try:\n",
    "    raise NameError(\"dgs\") # Raise Error\n",
    "except NameError:\n",
    "    print (\"An exception\")\n",
    "    "
   ]
  },
  {
   "cell_type": "code",
   "execution_count": null,
   "id": "b741eec6",
   "metadata": {},
   "outputs": [],
   "source": []
  }
 ],
 "metadata": {
  "kernelspec": {
   "display_name": "Python 3 (ipykernel)",
   "language": "python",
   "name": "python3"
  },
  "language_info": {
   "codemirror_mode": {
    "name": "ipython",
    "version": 3
   },
   "file_extension": ".py",
   "mimetype": "text/x-python",
   "name": "python",
   "nbconvert_exporter": "python",
   "pygments_lexer": "ipython3",
   "version": "3.9.12"
  }
 },
 "nbformat": 4,
 "nbformat_minor": 5
}
